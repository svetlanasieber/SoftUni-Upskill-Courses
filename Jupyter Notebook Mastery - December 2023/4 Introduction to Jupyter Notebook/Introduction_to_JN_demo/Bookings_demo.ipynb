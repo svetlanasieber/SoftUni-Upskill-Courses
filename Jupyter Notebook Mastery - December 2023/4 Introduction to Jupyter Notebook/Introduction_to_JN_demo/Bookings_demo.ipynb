{
 "cells": [
  {
   "cell_type": "code",
   "execution_count": 1,
   "id": "10e0aa8b",
   "metadata": {},
   "outputs": [],
   "source": [
    "%matplotlib inline"
   ]
  },
  {
   "cell_type": "code",
   "execution_count": 2,
   "id": "d68c3e45",
   "metadata": {},
   "outputs": [],
   "source": [
    "import numpy as np\n",
    "import pandas as pd\n",
    "import matplotlib.pyplot as plt"
   ]
  },
  {
   "cell_type": "markdown",
   "id": "b1fdc4d3",
   "metadata": {},
   "source": [
    "# Reading our data"
   ]
  },
  {
   "cell_type": "code",
   "execution_count": null,
   "id": "f1d7cea3",
   "metadata": {},
   "outputs": [],
   "source": [
    "bookings_data = pd.read_csv('./data/hotel_bookings.csv')"
   ]
  },
  {
   "cell_type": "code",
   "execution_count": null,
   "id": "524ef3ae",
   "metadata": {},
   "outputs": [],
   "source": [
    "bookings_data.head(5)"
   ]
  },
  {
   "cell_type": "code",
   "execution_count": null,
   "id": "306c548b",
   "metadata": {},
   "outputs": [],
   "source": [
    "bookings_data.columns"
   ]
  },
  {
   "cell_type": "markdown",
   "id": "4c6d3ee0",
   "metadata": {},
   "source": [
    "**!NB** First, understand the data you have. Find any available metadata."
   ]
  },
  {
   "cell_type": "markdown",
   "id": "85c065b6",
   "metadata": {},
   "source": [
    "# Let's have another look at defining a problem..."
   ]
  },
  {
   "cell_type": "markdown",
   "id": "0065032b",
   "metadata": {},
   "source": [
    "We discussed that before starting our data storytelling journey, we have to understand what problem we are trying to solve."
   ]
  },
  {
   "cell_type": "markdown",
   "id": "603b3aac",
   "metadata": {},
   "source": [
    "However, sometimes problems are discovered only after we have **explored** our data - a process called **Exploratory Data Analysis (EDA)**."
   ]
  },
  {
   "cell_type": "markdown",
   "id": "2d113d01",
   "metadata": {},
   "source": [
    "# Exploratory Data Analysis"
   ]
  },
  {
   "cell_type": "markdown",
   "id": "236f8d56",
   "metadata": {},
   "source": [
    "Out dataset consists of data from two different hotels located in Portugal --> one Resort hotel and one City hotel."
   ]
  },
  {
   "cell_type": "markdown",
   "id": "b4204ff4",
   "metadata": {},
   "source": [
    "The data contains \"bookings **due to arrive** between the 1st of July of 2015 and the 31st of August 2017\"."
   ]
  },
  {
   "cell_type": "code",
   "execution_count": null,
   "id": "18f072b6",
   "metadata": {},
   "outputs": [],
   "source": [
    "bookings_data.hotel.unique()"
   ]
  },
  {
   "cell_type": "code",
   "execution_count": null,
   "id": "b15a1565",
   "metadata": {},
   "outputs": [],
   "source": [
    "bookings_data.arrival_date_year.unique()"
   ]
  },
  {
   "cell_type": "code",
   "execution_count": null,
   "id": "2591e0b3",
   "metadata": {},
   "outputs": [],
   "source": [
    "bookings_data[bookings_data['arrival_date_year'] == 2015]['arrival_date_month'].unique()"
   ]
  },
  {
   "cell_type": "code",
   "execution_count": null,
   "id": "65029ff4",
   "metadata": {},
   "outputs": [],
   "source": [
    "bookings_data[bookings_data['arrival_date_year'] == 2017]['arrival_date_month'].unique()"
   ]
  },
  {
   "cell_type": "markdown",
   "id": "0726200a",
   "metadata": {},
   "source": [
    "## 1. Where do our guest come from?"
   ]
  },
  {
   "cell_type": "code",
   "execution_count": null,
   "id": "fc01c3f3",
   "metadata": {},
   "outputs": [],
   "source": [
    "customers_by_country = pd.DataFrame(bookings_data.country.value_counts().sort_values(ascending=False))\n",
    "customers_by_country.rename(columns={'country': 'count'}, inplace=True)\n",
    "total_guests = customers_by_country['count'].sum()\n",
    "customers_by_country[\"guest_%\"] = round(customers_by_country[\"count\"] / total_guests * 100, 2)\n",
    "customers_by_country[\"country\"] = customers_by_country.index"
   ]
  },
  {
   "cell_type": "code",
   "execution_count": null,
   "id": "61c74d18",
   "metadata": {},
   "outputs": [],
   "source": [
    "#bookings_data[bookings_data['is_canceled'] == 0]"
   ]
  },
  {
   "cell_type": "code",
   "execution_count": null,
   "id": "82701be0",
   "metadata": {},
   "outputs": [],
   "source": [
    "customers_by_country"
   ]
  },
  {
   "cell_type": "code",
   "execution_count": null,
   "id": "ecc9140f",
   "metadata": {},
   "outputs": [],
   "source": [
    "customers_by_country['count']"
   ]
  },
  {
   "cell_type": "code",
   "execution_count": null,
   "id": "0bf950f4",
   "metadata": {},
   "outputs": [],
   "source": [
    "plt.pie(x=customers_by_country['count'],\n",
    "       labels=customers_by_country['country'])    \n",
    "plt.show()"
   ]
  },
  {
   "cell_type": "markdown",
   "id": "281755eb",
   "metadata": {},
   "source": [
    "Always optimize your piecharts!"
   ]
  },
  {
   "cell_type": "code",
   "execution_count": null,
   "id": "ef7872ee",
   "metadata": {},
   "outputs": [],
   "source": [
    "top_5_countries = customers_by_country.head()"
   ]
  },
  {
   "cell_type": "code",
   "execution_count": null,
   "id": "527caea0",
   "metadata": {},
   "outputs": [],
   "source": [
    "plt.pie(x=top_5_countries['count'],\n",
    "       labels=top_5_countries['country'],\n",
    "       autopct='%1.1f%%')\n",
    "plt.title('Customers by country')\n",
    "plt.show()"
   ]
  },
  {
   "cell_type": "markdown",
   "id": "dd8f203a",
   "metadata": {},
   "source": [
    "Be very careful with pie charts! They might seem correct, but they might not be..."
   ]
  },
  {
   "cell_type": "markdown",
   "id": "9f8b921a",
   "metadata": {},
   "source": [
    "There is one more problem --> remember that these are the results for all the bookings --> let's remove the cancelled ones."
   ]
  },
  {
   "cell_type": "markdown",
   "id": "5b9d1bd4",
   "metadata": {},
   "source": [
    "## 2. How much do guests pay for a room per night?"
   ]
  },
  {
   "cell_type": "markdown",
   "id": "5c5d3d29",
   "metadata": {},
   "source": [
    "Be careful! Take into account the following:\n",
    "- we have two different hotels\n",
    "- there is seasonality in the data"
   ]
  },
  {
   "cell_type": "code",
   "execution_count": null,
   "id": "64f3067a",
   "metadata": {},
   "outputs": [],
   "source": [
    "bookings_data.adults\n",
    "bookings_data.children\n",
    "bookings_data.babies"
   ]
  },
  {
   "cell_type": "code",
   "execution_count": null,
   "id": "ce9c7581",
   "metadata": {},
   "outputs": [],
   "source": [
    "pd.set_option('use_inf_as_na', True)\n",
    "resort_hotel_data = bookings_data.loc[(bookings_data['hotel'] == 'Resort Hotel') & (bookings_data['is_canceled'] == 0)]\n",
    "city_hotel_data = bookings_data.loc[(bookings_data['hotel'] == 'City Hotel') & (bookings_data['is_canceled'] == 0)]"
   ]
  },
  {
   "cell_type": "code",
   "execution_count": null,
   "id": "d7c5a0f9",
   "metadata": {},
   "outputs": [],
   "source": [
    "#adr == average daily rate"
   ]
  },
  {
   "cell_type": "code",
   "execution_count": null,
   "id": "fd443ad7",
   "metadata": {},
   "outputs": [],
   "source": [
    "resort_hotel_data['adr_per_person'] = resort_hotel_data['adr'] / (resort_hotel_data['adults'] + resort_hotel_data['children'])\n",
    "city_hotel_data['adr_per_person'] = city_hotel_data['adr'] / (city_hotel_data['adults'] + city_hotel_data['children'])"
   ]
  },
  {
   "cell_type": "code",
   "execution_count": null,
   "id": "c0449497",
   "metadata": {},
   "outputs": [],
   "source": [
    "resort_hotel_data.adr_per_person.mean(), city_hotel_data.adr_per_person.mean()"
   ]
  },
  {
   "cell_type": "code",
   "execution_count": null,
   "id": "f4d281dd",
   "metadata": {},
   "outputs": [],
   "source": [
    "resort_hotel_data.adr_per_person.std(), city_hotel_data.adr_per_person.std()"
   ]
  },
  {
   "cell_type": "markdown",
   "id": "848f5322",
   "metadata": {},
   "source": [
    "## 3. How many cancelations do we have?"
   ]
  },
  {
   "cell_type": "code",
   "execution_count": null,
   "id": "530dc45a",
   "metadata": {},
   "outputs": [],
   "source": [
    "rh_cancelations = bookings_data[bookings_data.hotel=='Resort Hotel']['is_canceled'].value_counts()\n",
    "rh_cancelations"
   ]
  },
  {
   "cell_type": "code",
   "execution_count": null,
   "id": "eed90d6a",
   "metadata": {},
   "outputs": [],
   "source": [
    "ch_cancelations = bookings_data[bookings_data.hotel=='City Hotel']['is_canceled'].value_counts()"
   ]
  },
  {
   "cell_type": "code",
   "execution_count": null,
   "id": "80ebc425",
   "metadata": {},
   "outputs": [],
   "source": [
    "rh_cancelations.values[1] / rh_cancelations.values[0]"
   ]
  },
  {
   "cell_type": "code",
   "execution_count": null,
   "id": "6db6652f",
   "metadata": {},
   "outputs": [],
   "source": [
    "ch_cancelations.values[1] / ch_cancelations.values[0]"
   ]
  },
  {
   "cell_type": "markdown",
   "id": "7fddcf70",
   "metadata": {},
   "source": [
    "## 4. How does deposits affect cancelation?"
   ]
  },
  {
   "cell_type": "code",
   "execution_count": null,
   "id": "7c800d94",
   "metadata": {},
   "outputs": [],
   "source": [
    "bookings_data.drop(bookings_data[bookings_data.adr > 1000].index.values, inplace=True)"
   ]
  },
  {
   "cell_type": "code",
   "execution_count": null,
   "id": "69806eb1",
   "metadata": {},
   "outputs": [],
   "source": [
    "deposit_cancel_data = bookings_data.groupby(\"deposit_type\")[\"is_canceled\"].describe()"
   ]
  },
  {
   "cell_type": "code",
   "execution_count": null,
   "id": "ce9372c9",
   "metadata": {},
   "outputs": [],
   "source": [
    "deposit_cancel_data"
   ]
  },
  {
   "cell_type": "code",
   "execution_count": null,
   "id": "d813871b",
   "metadata": {},
   "outputs": [],
   "source": [
    "plt.bar(deposit_cancel_data.index, deposit_cancel_data[\"mean\"] * 100)\n",
    "plt.show()"
   ]
  },
  {
   "cell_type": "markdown",
   "id": "b43b74c9",
   "metadata": {},
   "source": [
    "## 5. How does average daily rate affect cancelation?"
   ]
  },
  {
   "cell_type": "code",
   "execution_count": null,
   "id": "e47eb55f",
   "metadata": {},
   "outputs": [],
   "source": [
    "adr_cancel_data = bookings_data.groupby(\"adr\")[\"is_canceled\"].describe()"
   ]
  },
  {
   "cell_type": "code",
   "execution_count": null,
   "id": "a7657522",
   "metadata": {},
   "outputs": [],
   "source": [
    "plt.figure(figsize=(10, 5))\n",
    "plt.scatter(adr_cancel_data.index, adr_cancel_data[\"mean\"] * 100)\n",
    "plt.show()"
   ]
  },
  {
   "cell_type": "code",
   "execution_count": null,
   "id": "ea062050",
   "metadata": {},
   "outputs": [],
   "source": []
  }
 ],
 "metadata": {
  "kernelspec": {
   "display_name": "Python 3 (ipykernel)",
   "language": "python",
   "name": "python3"
  },
  "language_info": {
   "codemirror_mode": {
    "name": "ipython",
    "version": 3
   },
   "file_extension": ".py",
   "mimetype": "text/x-python",
   "name": "python",
   "nbconvert_exporter": "python",
   "pygments_lexer": "ipython3",
   "version": "3.11.5"
  }
 },
 "nbformat": 4,
 "nbformat_minor": 5
}
