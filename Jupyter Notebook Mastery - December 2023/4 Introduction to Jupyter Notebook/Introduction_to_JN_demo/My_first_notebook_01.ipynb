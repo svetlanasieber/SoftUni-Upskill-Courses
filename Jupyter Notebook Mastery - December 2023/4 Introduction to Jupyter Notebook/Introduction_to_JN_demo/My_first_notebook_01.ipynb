{
 "cells": [
  {
   "cell_type": "code",
   "execution_count": 1,
   "id": "52ad6044",
   "metadata": {},
   "outputs": [],
   "source": [
    "%matplotlib inline"
   ]
  },
  {
   "cell_type": "markdown",
   "id": "d0cfeb5e",
   "metadata": {},
   "source": [
    "This is text"
   ]
  },
  {
   "cell_type": "markdown",
   "id": "bedc2759",
   "metadata": {},
   "source": [
    "I can write text "
   ]
  },
  {
   "cell_type": "code",
   "execution_count": 2,
   "id": "1e614cbc",
   "metadata": {},
   "outputs": [],
   "source": [
    "import numpy as np\n",
    "import pandas as pd\n",
    "import matplotlib.pyplot as plt"
   ]
  },
  {
   "cell_type": "code",
   "execution_count": null,
   "id": "b0b8986d",
   "metadata": {},
   "outputs": [],
   "source": []
  }
 ],
 "metadata": {
  "kernelspec": {
   "display_name": "Python 3 (ipykernel)",
   "language": "python",
   "name": "python3"
  },
  "language_info": {
   "codemirror_mode": {
    "name": "ipython",
    "version": 3
   },
   "file_extension": ".py",
   "mimetype": "text/x-python",
   "name": "python",
   "nbconvert_exporter": "python",
   "pygments_lexer": "ipython3",
   "version": "3.11.5"
  }
 },
 "nbformat": 4,
 "nbformat_minor": 5
}
